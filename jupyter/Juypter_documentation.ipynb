{
 "cells": [
  {
   "cell_type": "markdown",
   "id": "56e1b3d0-4d24-4f1e-b57f-57f3fcb7cf1b",
   "metadata": {},
   "source": [
    "# Documentation for Research Paper Chatbot "
   ]
  },
  {
   "cell_type": "markdown",
   "id": "59c166d0-2deb-41d0-b869-ab3c063d4fcf",
   "metadata": {},
   "source": [
    "### SE research paper chatbot\n",
    "\n",
    "Group Name: [csusb_fall2024_cse6550_team4](https://github.com/DrAlzahraniProjects/csusb_fall2024_cse6550_team4)\n",
    "\n",
    "Instructor: Dr. Alzahrani, Nabeel\n",
    "\n",
    "Course: CSE 6550: Software Engineer Concepts Fall 2024\n",
    "\n",
    "Source: [Github](https://github.com/DrAlzahraniProjects/csusb_fall2024_cse6550_team4)"
   ]
  },
  {
   "cell_type": "markdown",
   "id": "2082af1f-a595-4647-b840-ea3b214a4e29",
   "metadata": {},
   "source": [
    "# 1. Introduction"
   ]
  },
  {
   "cell_type": "markdown",
   "id": "e8851e3b-26b9-4cdb-8981-22e6b56c1625",
   "metadata": {},
   "source": [
    "Purpose:\n",
    "\n",
    "The purpose of this project is to create an AI-powered research paper chatbot that helps users extract, summarize, and understand content from academic papers. It will offer an interactive Q&A experience, providing accurate, contextually relevant answers to questions about specific sections, making complex research information more accessible and comprehensible.\n",
    "\n",
    "Objective:\n",
    "\n",
    "The Paper Chatbot enhances interaction with academic papers by allowing users to upload documents, ask questions, and receive summaries or clarifications. It simplifies extracting key information, aiding students, researchers, and professionals in efficiently understanding complex content.\n",
    "\n",
    "Prerequisites:\n",
    "Github, Docker, Jupyter Notebook, Python"
   ]
  },
  {
   "cell_type": "markdown",
   "id": "9a32172f-8f08-4c1a-8ed0-8713f13d28ea",
   "metadata": {},
   "source": [
    "# 2. Setup"
   ]
  },
  {
   "cell_type": "markdown",
   "id": "153795e0-9f91-43bf-9e5e-cf369190ef1c",
   "metadata": {},
   "source": [
    "Checking Python Version\n",
    "\n",
    "- To ensure your system is compatible with the project, follow these steps:\n",
    "\n",
    "- Run Command: Use ```!python --version``` to check the installed Python version.\n",
    "- Verify Version: Confirm that the displayed version is 3.10 or higher.\n",
    "- If the version is lower than 3.10, download and install the latest version from https://www.python.org/downloads/\n",
    "\n",
    "Requirements:\n",
    "- Python must be installed on your system.\n",
    "- The project requires Python 3.10 or higher."
   ]
  },
  {
   "cell_type": "code",
   "execution_count": 33,
   "id": "a37046ed-6dcf-4f02-97e6-c40cfacb85c2",
   "metadata": {},
   "outputs": [
    {
     "name": "stdout",
     "output_type": "stream",
     "text": [
      "Python 3.11.10\n"
     ]
    }
   ],
   "source": [
    "!python --version"
   ]
  },
  {
   "cell_type": "markdown",
   "id": "80661364-9896-4f81-8bec-ffb9dbbc7228",
   "metadata": {},
   "source": [
    "### Building Virtual Environment\n",
    "- Install Tools: Installs the required Python packages (`ipykernel` and `virtualenv`) without showing any output or warnings during installation.\n",
    "- Create Virtual Environment: Sets up a virtual environment named `chatbot`, a dedicated workspace for your project to manage its dependencies separately from the global system."
   ]
  },
  {
   "cell_type": "code",
   "execution_count": 35,
   "id": "fb0ca7d1-7824-46c2-9c91-2a9d6792a6a4",
   "metadata": {},
   "outputs": [
    {
     "name": "stdout",
     "output_type": "stream",
     "text": [
      "Virtual Environment Created\n"
     ]
    }
   ],
   "source": [
    "import os\n",
    "import subprocess\n",
    "\n",
    "# Suppress pip installation output\n",
    "subprocess.run(\n",
    "    \"pip install ipykernel --root-user-action=ignore > NUL 2>&1\", shell=True\n",
    ")\n",
    "subprocess.run(\n",
    "    \"pip install --user virtualenv --root-user-action=ignore --no-warn-script-location > NUL 2>&1\",\n",
    "    shell=True,\n",
    ")\n",
    "\n",
    "# Create the virtual environment\n",
    "subprocess.run(\"python -m venv chatbot > NUL 2>&1\", shell=True)\n",
    "\n",
    "# Simulate activation (actual activation is done in the shell, this is just confirmation)\n",
    "print(\"Virtual Environment Created\")"
   ]
  },
  {
   "cell_type": "markdown",
   "id": "a18811ba-bf48-4bf7-92ed-8f37f81ab2e6",
   "metadata": {},
   "source": [
    "### Installing dependencies\n",
    "This command installs all the necessary Python packages for your project, including tools for data analysis, machine learning, AI, and visualization. It ensures your environment has everything required to build and run the project seamlessly."
   ]
  },
  {
   "cell_type": "code",
   "execution_count": 39,
   "id": "9c92e119-17f2-478e-b661-a06329590a28",
   "metadata": {},
   "outputs": [
    {
     "name": "stdout",
     "output_type": "stream",
     "text": [
      "Requirement already satisfied: streamlit in /opt/conda/envs/team4_env/lib/python3.11/site-packages (1.40.1)\n",
      "Requirement already satisfied: pandas in /opt/conda/envs/team4_env/lib/python3.11/site-packages (2.2.3)\n",
      "Requirement already satisfied: jupyter in /opt/conda/envs/team4_env/lib/python3.11/site-packages (1.1.1)\n",
      "Requirement already satisfied: langchain in /opt/conda/envs/team4_env/lib/python3.11/site-packages (0.2.17)\n",
      "Requirement already satisfied: langchain-community in /opt/conda/envs/team4_env/lib/python3.11/site-packages (0.2.19)\n",
      "Requirement already satisfied: langchain-huggingface in /opt/conda/envs/team4_env/lib/python3.11/site-packages (0.0.3)\n",
      "Requirement already satisfied: langchain-text-splitters in /opt/conda/envs/team4_env/lib/python3.11/site-packages (0.2.4)\n",
      "Requirement already satisfied: langchain-mistralai in /opt/conda/envs/team4_env/lib/python3.11/site-packages (0.1.13)\n",
      "Requirement already satisfied: sentence-transformers in /opt/conda/envs/team4_env/lib/python3.11/site-packages (3.3.1)\n",
      "Requirement already satisfied: faiss-cpu in /opt/conda/envs/team4_env/lib/python3.11/site-packages (1.9.0.post1)\n",
      "Requirement already satisfied: transformers in /opt/conda/envs/team4_env/lib/python3.11/site-packages (4.46.3)\n",
      "Requirement already satisfied: matplotlib in /opt/conda/envs/team4_env/lib/python3.11/site-packages (3.9.2)\n",
      "Requirement already satisfied: numpy in /opt/conda/envs/team4_env/lib/python3.11/site-packages (1.26.4)\n",
      "Requirement already satisfied: plotly in /opt/conda/envs/team4_env/lib/python3.11/site-packages (5.24.1)\n",
      "Requirement already satisfied: scikit-learn in /opt/conda/envs/team4_env/lib/python3.11/site-packages (1.5.2)\n",
      "Requirement already satisfied: ipykernel in /opt/conda/envs/team4_env/lib/python3.11/site-packages (6.29.5)\n",
      "Requirement already satisfied: roman in /opt/conda/envs/team4_env/lib/python3.11/site-packages (4.2)\n",
      "Requirement already satisfied: yake in /opt/conda/envs/team4_env/lib/python3.11/site-packages (0.4.8)\n",
      "Requirement already satisfied: pymilvus in /opt/conda/envs/team4_env/lib/python3.11/site-packages (2.4.9)\n",
      "Requirement already satisfied: pydantic==2.5.2 in /opt/conda/envs/team4_env/lib/python3.11/site-packages (2.5.2)\n",
      "Requirement already satisfied: mistralai in /opt/conda/envs/team4_env/lib/python3.11/site-packages (0.4.2)\n",
      "Requirement already satisfied: annotated-types>=0.4.0 in /opt/conda/envs/team4_env/lib/python3.11/site-packages (from pydantic==2.5.2) (0.7.0)\n",
      "Requirement already satisfied: pydantic-core==2.14.5 in /opt/conda/envs/team4_env/lib/python3.11/site-packages (from pydantic==2.5.2) (2.14.5)\n",
      "Requirement already satisfied: typing-extensions>=4.6.1 in /opt/conda/envs/team4_env/lib/python3.11/site-packages (from pydantic==2.5.2) (4.12.2)\n",
      "Requirement already satisfied: altair<6,>=4.0 in /opt/conda/envs/team4_env/lib/python3.11/site-packages (from streamlit) (5.5.0)\n",
      "Requirement already satisfied: blinker<2,>=1.0.0 in /opt/conda/envs/team4_env/lib/python3.11/site-packages (from streamlit) (1.9.0)\n",
      "Requirement already satisfied: cachetools<6,>=4.0 in /opt/conda/envs/team4_env/lib/python3.11/site-packages (from streamlit) (5.5.0)\n",
      "Requirement already satisfied: click<9,>=7.0 in /opt/conda/envs/team4_env/lib/python3.11/site-packages (from streamlit) (8.1.7)\n",
      "Requirement already satisfied: packaging<25,>=20 in /opt/conda/envs/team4_env/lib/python3.11/site-packages (from streamlit) (24.2)\n",
      "Requirement already satisfied: pillow<12,>=7.1.0 in /opt/conda/envs/team4_env/lib/python3.11/site-packages (from streamlit) (11.0.0)\n",
      "Requirement already satisfied: protobuf<6,>=3.20 in /opt/conda/envs/team4_env/lib/python3.11/site-packages (from streamlit) (5.28.2)\n",
      "Requirement already satisfied: pyarrow>=7.0 in /opt/conda/envs/team4_env/lib/python3.11/site-packages (from streamlit) (18.0.0)\n",
      "Requirement already satisfied: requests<3,>=2.27 in /opt/conda/envs/team4_env/lib/python3.11/site-packages (from streamlit) (2.32.3)\n",
      "Requirement already satisfied: rich<14,>=10.14.0 in /opt/conda/envs/team4_env/lib/python3.11/site-packages (from streamlit) (13.9.4)\n",
      "Requirement already satisfied: tenacity<10,>=8.1.0 in /opt/conda/envs/team4_env/lib/python3.11/site-packages (from streamlit) (8.5.0)\n",
      "Requirement already satisfied: toml<2,>=0.10.1 in /opt/conda/envs/team4_env/lib/python3.11/site-packages (from streamlit) (0.10.2)\n",
      "Requirement already satisfied: gitpython!=3.1.19,<4,>=3.0.7 in /opt/conda/envs/team4_env/lib/python3.11/site-packages (from streamlit) (3.1.43)\n",
      "Requirement already satisfied: pydeck<1,>=0.8.0b4 in /opt/conda/envs/team4_env/lib/python3.11/site-packages (from streamlit) (0.8.0b4)\n",
      "Requirement already satisfied: tornado<7,>=6.0.3 in /opt/conda/envs/team4_env/lib/python3.11/site-packages (from streamlit) (6.4.1)\n",
      "Requirement already satisfied: watchdog<7,>=2.1.5 in /opt/conda/envs/team4_env/lib/python3.11/site-packages (from streamlit) (6.0.0)\n",
      "Requirement already satisfied: python-dateutil>=2.8.2 in /opt/conda/envs/team4_env/lib/python3.11/site-packages (from pandas) (2.9.0.post0)\n",
      "Requirement already satisfied: pytz>=2020.1 in /opt/conda/envs/team4_env/lib/python3.11/site-packages (from pandas) (2024.1)\n",
      "Requirement already satisfied: tzdata>=2022.7 in /opt/conda/envs/team4_env/lib/python3.11/site-packages (from pandas) (2024.2)\n",
      "Requirement already satisfied: notebook in /opt/conda/envs/team4_env/lib/python3.11/site-packages (from jupyter) (7.2.2)\n",
      "Requirement already satisfied: jupyter-console in /opt/conda/envs/team4_env/lib/python3.11/site-packages (from jupyter) (6.6.3)\n",
      "Requirement already satisfied: nbconvert in /opt/conda/envs/team4_env/lib/python3.11/site-packages (from jupyter) (7.16.4)\n",
      "Requirement already satisfied: ipywidgets in /opt/conda/envs/team4_env/lib/python3.11/site-packages (from jupyter) (8.1.5)\n",
      "Requirement already satisfied: jupyterlab in /opt/conda/envs/team4_env/lib/python3.11/site-packages (from jupyter) (4.2.6)\n",
      "Requirement already satisfied: PyYAML>=5.3 in /opt/conda/envs/team4_env/lib/python3.11/site-packages (from langchain) (6.0.2)\n",
      "Requirement already satisfied: SQLAlchemy<3,>=1.4 in /opt/conda/envs/team4_env/lib/python3.11/site-packages (from langchain) (2.0.36)\n",
      "Requirement already satisfied: aiohttp<4.0.0,>=3.8.3 in /opt/conda/envs/team4_env/lib/python3.11/site-packages (from langchain) (3.11.7)\n",
      "Requirement already satisfied: langchain-core<0.3.0,>=0.2.43 in /opt/conda/envs/team4_env/lib/python3.11/site-packages (from langchain) (0.2.43)\n",
      "Requirement already satisfied: langsmith<0.2.0,>=0.1.17 in /opt/conda/envs/team4_env/lib/python3.11/site-packages (from langchain) (0.1.145)\n",
      "Requirement already satisfied: dataclasses-json<0.7,>=0.5.7 in /opt/conda/envs/team4_env/lib/python3.11/site-packages (from langchain-community) (0.6.7)\n",
      "Requirement already satisfied: huggingface-hub>=0.23.0 in /opt/conda/envs/team4_env/lib/python3.11/site-packages (from langchain-huggingface) (0.26.2)\n",
      "Requirement already satisfied: tokenizers>=0.19.1 in /opt/conda/envs/team4_env/lib/python3.11/site-packages (from langchain-huggingface) (0.20.3)\n",
      "Requirement already satisfied: httpx<1,>=0.25.2 in /opt/conda/envs/team4_env/lib/python3.11/site-packages (from langchain-mistralai) (0.27.2)\n",
      "Requirement already satisfied: httpx-sse<1,>=0.3.1 in /opt/conda/envs/team4_env/lib/python3.11/site-packages (from langchain-mistralai) (0.4.0)\n",
      "Requirement already satisfied: tqdm in /opt/conda/envs/team4_env/lib/python3.11/site-packages (from sentence-transformers) (4.67.1)\n",
      "Requirement already satisfied: torch>=1.11.0 in /opt/conda/envs/team4_env/lib/python3.11/site-packages (from sentence-transformers) (2.0.1)\n",
      "Requirement already satisfied: scipy in /opt/conda/envs/team4_env/lib/python3.11/site-packages (from sentence-transformers) (1.14.1)\n",
      "Requirement already satisfied: filelock in /opt/conda/envs/team4_env/lib/python3.11/site-packages (from transformers) (3.16.1)\n",
      "Requirement already satisfied: regex!=2019.12.17 in /opt/conda/envs/team4_env/lib/python3.11/site-packages (from transformers) (2024.11.6)\n",
      "Requirement already satisfied: safetensors>=0.4.1 in /opt/conda/envs/team4_env/lib/python3.11/site-packages (from transformers) (0.4.5)\n",
      "Requirement already satisfied: contourpy>=1.0.1 in /opt/conda/envs/team4_env/lib/python3.11/site-packages (from matplotlib) (1.3.1)\n",
      "Requirement already satisfied: cycler>=0.10 in /opt/conda/envs/team4_env/lib/python3.11/site-packages (from matplotlib) (0.12.1)\n",
      "Requirement already satisfied: fonttools>=4.22.0 in /opt/conda/envs/team4_env/lib/python3.11/site-packages (from matplotlib) (4.55.0)\n",
      "Requirement already satisfied: kiwisolver>=1.3.1 in /opt/conda/envs/team4_env/lib/python3.11/site-packages (from matplotlib) (1.4.7)\n",
      "Requirement already satisfied: pyparsing>=2.3.1 in /opt/conda/envs/team4_env/lib/python3.11/site-packages (from matplotlib) (3.2.0)\n",
      "Requirement already satisfied: joblib>=1.2.0 in /opt/conda/envs/team4_env/lib/python3.11/site-packages (from scikit-learn) (1.4.2)\n",
      "Requirement already satisfied: threadpoolctl>=3.1.0 in /opt/conda/envs/team4_env/lib/python3.11/site-packages (from scikit-learn) (3.5.0)\n",
      "Requirement already satisfied: comm>=0.1.1 in /opt/conda/envs/team4_env/lib/python3.11/site-packages (from ipykernel) (0.2.2)\n",
      "Requirement already satisfied: debugpy>=1.6.5 in /opt/conda/envs/team4_env/lib/python3.11/site-packages (from ipykernel) (1.8.9)\n",
      "Requirement already satisfied: ipython>=7.23.1 in /opt/conda/envs/team4_env/lib/python3.11/site-packages (from ipykernel) (8.29.0)\n",
      "Requirement already satisfied: jupyter-client>=6.1.12 in /opt/conda/envs/team4_env/lib/python3.11/site-packages (from ipykernel) (8.6.3)\n",
      "Requirement already satisfied: jupyter-core!=5.0.*,>=4.12 in /opt/conda/envs/team4_env/lib/python3.11/site-packages (from ipykernel) (5.7.2)\n",
      "Requirement already satisfied: matplotlib-inline>=0.1 in /opt/conda/envs/team4_env/lib/python3.11/site-packages (from ipykernel) (0.1.7)\n",
      "Requirement already satisfied: nest-asyncio in /opt/conda/envs/team4_env/lib/python3.11/site-packages (from ipykernel) (1.6.0)\n",
      "Requirement already satisfied: psutil in /opt/conda/envs/team4_env/lib/python3.11/site-packages (from ipykernel) (6.1.0)\n",
      "Requirement already satisfied: pyzmq>=24 in /opt/conda/envs/team4_env/lib/python3.11/site-packages (from ipykernel) (26.2.0)\n",
      "Requirement already satisfied: traitlets>=5.4.0 in /opt/conda/envs/team4_env/lib/python3.11/site-packages (from ipykernel) (5.14.3)\n",
      "Requirement already satisfied: tabulate in /opt/conda/envs/team4_env/lib/python3.11/site-packages (from yake) (0.9.0)\n",
      "Requirement already satisfied: segtok in /opt/conda/envs/team4_env/lib/python3.11/site-packages (from yake) (1.5.11)\n",
      "Requirement already satisfied: networkx in /opt/conda/envs/team4_env/lib/python3.11/site-packages (from yake) (3.4.2)\n",
      "Requirement already satisfied: jellyfish in /opt/conda/envs/team4_env/lib/python3.11/site-packages (from yake) (1.1.0)\n",
      "Requirement already satisfied: setuptools>69 in /opt/conda/envs/team4_env/lib/python3.11/site-packages (from pymilvus) (75.3.0)\n",
      "Requirement already satisfied: grpcio>=1.49.1 in /opt/conda/envs/team4_env/lib/python3.11/site-packages (from pymilvus) (1.67.1)\n",
      "Requirement already satisfied: environs<=9.5.0 in /opt/conda/envs/team4_env/lib/python3.11/site-packages (from pymilvus) (9.5.0)\n",
      "Requirement already satisfied: ujson>=2.0.0 in /opt/conda/envs/team4_env/lib/python3.11/site-packages (from pymilvus) (5.10.0)\n",
      "Requirement already satisfied: milvus-lite<2.5.0,>=2.4.0 in /opt/conda/envs/team4_env/lib/python3.11/site-packages (from pymilvus) (2.4.10)\n",
      "Requirement already satisfied: orjson<3.11,>=3.9.10 in /opt/conda/envs/team4_env/lib/python3.11/site-packages (from mistralai) (3.10.12)\n",
      "Requirement already satisfied: aiohappyeyeballs>=2.3.0 in /opt/conda/envs/team4_env/lib/python3.11/site-packages (from aiohttp<4.0.0,>=3.8.3->langchain) (2.4.3)\n",
      "Requirement already satisfied: aiosignal>=1.1.2 in /opt/conda/envs/team4_env/lib/python3.11/site-packages (from aiohttp<4.0.0,>=3.8.3->langchain) (1.3.1)\n",
      "Requirement already satisfied: attrs>=17.3.0 in /opt/conda/envs/team4_env/lib/python3.11/site-packages (from aiohttp<4.0.0,>=3.8.3->langchain) (24.2.0)\n",
      "Requirement already satisfied: frozenlist>=1.1.1 in /opt/conda/envs/team4_env/lib/python3.11/site-packages (from aiohttp<4.0.0,>=3.8.3->langchain) (1.5.0)\n",
      "Requirement already satisfied: multidict<7.0,>=4.5 in /opt/conda/envs/team4_env/lib/python3.11/site-packages (from aiohttp<4.0.0,>=3.8.3->langchain) (6.1.0)\n",
      "Requirement already satisfied: propcache>=0.2.0 in /opt/conda/envs/team4_env/lib/python3.11/site-packages (from aiohttp<4.0.0,>=3.8.3->langchain) (0.2.0)\n",
      "Requirement already satisfied: yarl<2.0,>=1.17.0 in /opt/conda/envs/team4_env/lib/python3.11/site-packages (from aiohttp<4.0.0,>=3.8.3->langchain) (1.18.0)\n",
      "Requirement already satisfied: jinja2 in /opt/conda/envs/team4_env/lib/python3.11/site-packages (from altair<6,>=4.0->streamlit) (3.1.4)\n",
      "Requirement already satisfied: jsonschema>=3.0 in /opt/conda/envs/team4_env/lib/python3.11/site-packages (from altair<6,>=4.0->streamlit) (4.23.0)\n",
      "Requirement already satisfied: narwhals>=1.14.2 in /opt/conda/envs/team4_env/lib/python3.11/site-packages (from altair<6,>=4.0->streamlit) (1.14.2)\n",
      "Requirement already satisfied: marshmallow<4.0.0,>=3.18.0 in /opt/conda/envs/team4_env/lib/python3.11/site-packages (from dataclasses-json<0.7,>=0.5.7->langchain-community) (3.23.1)\n",
      "Requirement already satisfied: typing-inspect<1,>=0.4.0 in /opt/conda/envs/team4_env/lib/python3.11/site-packages (from dataclasses-json<0.7,>=0.5.7->langchain-community) (0.9.0)\n",
      "Requirement already satisfied: python-dotenv in /opt/conda/envs/team4_env/lib/python3.11/site-packages (from environs<=9.5.0->pymilvus) (1.0.1)\n",
      "Requirement already satisfied: gitdb<5,>=4.0.1 in /opt/conda/envs/team4_env/lib/python3.11/site-packages (from gitpython!=3.1.19,<4,>=3.0.7->streamlit) (4.0.11)\n",
      "Requirement already satisfied: anyio in /opt/conda/envs/team4_env/lib/python3.11/site-packages (from httpx<1,>=0.25.2->langchain-mistralai) (4.6.2.post1)\n",
      "Requirement already satisfied: certifi in /opt/conda/envs/team4_env/lib/python3.11/site-packages (from httpx<1,>=0.25.2->langchain-mistralai) (2024.8.30)\n",
      "Requirement already satisfied: httpcore==1.* in /opt/conda/envs/team4_env/lib/python3.11/site-packages (from httpx<1,>=0.25.2->langchain-mistralai) (1.0.7)\n",
      "Requirement already satisfied: idna in /opt/conda/envs/team4_env/lib/python3.11/site-packages (from httpx<1,>=0.25.2->langchain-mistralai) (3.10)\n",
      "Requirement already satisfied: sniffio in /opt/conda/envs/team4_env/lib/python3.11/site-packages (from httpx<1,>=0.25.2->langchain-mistralai) (1.3.1)\n",
      "Requirement already satisfied: h11<0.15,>=0.13 in /opt/conda/envs/team4_env/lib/python3.11/site-packages (from httpcore==1.*->httpx<1,>=0.25.2->langchain-mistralai) (0.14.0)\n",
      "Requirement already satisfied: fsspec>=2023.5.0 in /opt/conda/envs/team4_env/lib/python3.11/site-packages (from huggingface-hub>=0.23.0->langchain-huggingface) (2024.9.0)\n",
      "Requirement already satisfied: decorator in /opt/conda/envs/team4_env/lib/python3.11/site-packages (from ipython>=7.23.1->ipykernel) (5.1.1)\n",
      "Requirement already satisfied: jedi>=0.16 in /opt/conda/envs/team4_env/lib/python3.11/site-packages (from ipython>=7.23.1->ipykernel) (0.19.2)\n",
      "Requirement already satisfied: prompt-toolkit<3.1.0,>=3.0.41 in /opt/conda/envs/team4_env/lib/python3.11/site-packages (from ipython>=7.23.1->ipykernel) (3.0.48)\n",
      "Requirement already satisfied: pygments>=2.4.0 in /opt/conda/envs/team4_env/lib/python3.11/site-packages (from ipython>=7.23.1->ipykernel) (2.18.0)\n",
      "Requirement already satisfied: stack-data in /opt/conda/envs/team4_env/lib/python3.11/site-packages (from ipython>=7.23.1->ipykernel) (0.6.2)\n",
      "Requirement already satisfied: pexpect>4.3 in /opt/conda/envs/team4_env/lib/python3.11/site-packages (from ipython>=7.23.1->ipykernel) (4.9.0)\n",
      "Requirement already satisfied: platformdirs>=2.5 in /opt/conda/envs/team4_env/lib/python3.11/site-packages (from jupyter-core!=5.0.*,>=4.12->ipykernel) (4.3.6)\n",
      "Requirement already satisfied: jsonpatch<2.0,>=1.33 in /opt/conda/envs/team4_env/lib/python3.11/site-packages (from langchain-core<0.3.0,>=0.2.43->langchain) (1.33)\n",
      "Requirement already satisfied: requests-toolbelt<2.0.0,>=1.0.0 in /opt/conda/envs/team4_env/lib/python3.11/site-packages (from langsmith<0.2.0,>=0.1.17->langchain) (1.0.0)\n",
      "Requirement already satisfied: six>=1.5 in /opt/conda/envs/team4_env/lib/python3.11/site-packages (from python-dateutil>=2.8.2->pandas) (1.16.0)\n",
      "Requirement already satisfied: charset-normalizer<4,>=2 in /opt/conda/envs/team4_env/lib/python3.11/site-packages (from requests<3,>=2.27->streamlit) (3.4.0)\n",
      "Requirement already satisfied: urllib3<3,>=1.21.1 in /opt/conda/envs/team4_env/lib/python3.11/site-packages (from requests<3,>=2.27->streamlit) (2.2.3)\n",
      "Requirement already satisfied: markdown-it-py>=2.2.0 in /opt/conda/envs/team4_env/lib/python3.11/site-packages (from rich<14,>=10.14.0->streamlit) (3.0.0)\n",
      "Requirement already satisfied: greenlet!=0.4.17 in /opt/conda/envs/team4_env/lib/python3.11/site-packages (from SQLAlchemy<3,>=1.4->langchain) (3.1.1)\n",
      "Requirement already satisfied: sympy in /opt/conda/envs/team4_env/lib/python3.11/site-packages (from torch>=1.11.0->sentence-transformers) (1.13.3)\n",
      "Requirement already satisfied: widgetsnbextension~=4.0.12 in /opt/conda/envs/team4_env/lib/python3.11/site-packages (from ipywidgets->jupyter) (4.0.13)\n",
      "Requirement already satisfied: jupyterlab-widgets~=3.0.12 in /opt/conda/envs/team4_env/lib/python3.11/site-packages (from ipywidgets->jupyter) (3.0.13)\n",
      "Requirement already satisfied: async-lru>=1.0.0 in /opt/conda/envs/team4_env/lib/python3.11/site-packages (from jupyterlab->jupyter) (2.0.4)\n",
      "Requirement already satisfied: jupyter-lsp>=2.0.0 in /opt/conda/envs/team4_env/lib/python3.11/site-packages (from jupyterlab->jupyter) (2.2.5)\n",
      "Requirement already satisfied: jupyter-server<3,>=2.4.0 in /opt/conda/envs/team4_env/lib/python3.11/site-packages (from jupyterlab->jupyter) (2.14.2)\n",
      "Requirement already satisfied: jupyterlab-server<3,>=2.27.1 in /opt/conda/envs/team4_env/lib/python3.11/site-packages (from jupyterlab->jupyter) (2.27.3)\n",
      "Requirement already satisfied: notebook-shim>=0.2 in /opt/conda/envs/team4_env/lib/python3.11/site-packages (from jupyterlab->jupyter) (0.2.4)\n",
      "Requirement already satisfied: beautifulsoup4 in /opt/conda/envs/team4_env/lib/python3.11/site-packages (from nbconvert->jupyter) (4.12.3)\n",
      "Requirement already satisfied: bleach!=5.0.0 in /opt/conda/envs/team4_env/lib/python3.11/site-packages (from nbconvert->jupyter) (6.2.0)\n",
      "Requirement already satisfied: defusedxml in /opt/conda/envs/team4_env/lib/python3.11/site-packages (from nbconvert->jupyter) (0.7.1)\n",
      "Requirement already satisfied: jupyterlab-pygments in /opt/conda/envs/team4_env/lib/python3.11/site-packages (from nbconvert->jupyter) (0.3.0)\n",
      "Requirement already satisfied: markupsafe>=2.0 in /opt/conda/envs/team4_env/lib/python3.11/site-packages (from nbconvert->jupyter) (3.0.2)\n",
      "Requirement already satisfied: mistune<4,>=2.0.3 in /opt/conda/envs/team4_env/lib/python3.11/site-packages (from nbconvert->jupyter) (3.0.2)\n",
      "Requirement already satisfied: nbclient>=0.5.0 in /opt/conda/envs/team4_env/lib/python3.11/site-packages (from nbconvert->jupyter) (0.10.0)\n",
      "Requirement already satisfied: nbformat>=5.7 in /opt/conda/envs/team4_env/lib/python3.11/site-packages (from nbconvert->jupyter) (5.10.4)\n",
      "Requirement already satisfied: pandocfilters>=1.4.1 in /opt/conda/envs/team4_env/lib/python3.11/site-packages (from nbconvert->jupyter) (1.5.0)\n",
      "Requirement already satisfied: tinycss2 in /opt/conda/envs/team4_env/lib/python3.11/site-packages (from nbconvert->jupyter) (1.4.0)\n",
      "Requirement already satisfied: webencodings in /opt/conda/envs/team4_env/lib/python3.11/site-packages (from bleach!=5.0.0->nbconvert->jupyter) (0.5.1)\n",
      "Requirement already satisfied: smmap<6,>=3.0.1 in /opt/conda/envs/team4_env/lib/python3.11/site-packages (from gitdb<5,>=4.0.1->gitpython!=3.1.19,<4,>=3.0.7->streamlit) (5.0.0)\n",
      "Requirement already satisfied: parso<0.9.0,>=0.8.4 in /opt/conda/envs/team4_env/lib/python3.11/site-packages (from jedi>=0.16->ipython>=7.23.1->ipykernel) (0.8.4)\n",
      "Requirement already satisfied: jsonpointer>=1.9 in /opt/conda/envs/team4_env/lib/python3.11/site-packages (from jsonpatch<2.0,>=1.33->langchain-core<0.3.0,>=0.2.43->langchain) (3.0.0)\n",
      "Requirement already satisfied: jsonschema-specifications>=2023.03.6 in /opt/conda/envs/team4_env/lib/python3.11/site-packages (from jsonschema>=3.0->altair<6,>=4.0->streamlit) (2024.10.1)\n",
      "Requirement already satisfied: referencing>=0.28.4 in /opt/conda/envs/team4_env/lib/python3.11/site-packages (from jsonschema>=3.0->altair<6,>=4.0->streamlit) (0.35.1)\n",
      "Requirement already satisfied: rpds-py>=0.7.1 in /opt/conda/envs/team4_env/lib/python3.11/site-packages (from jsonschema>=3.0->altair<6,>=4.0->streamlit) (0.21.0)\n",
      "Requirement already satisfied: argon2-cffi>=21.1 in /opt/conda/envs/team4_env/lib/python3.11/site-packages (from jupyter-server<3,>=2.4.0->jupyterlab->jupyter) (23.1.0)\n",
      "Requirement already satisfied: jupyter-events>=0.9.0 in /opt/conda/envs/team4_env/lib/python3.11/site-packages (from jupyter-server<3,>=2.4.0->jupyterlab->jupyter) (0.10.0)\n",
      "Requirement already satisfied: jupyter-server-terminals>=0.4.4 in /opt/conda/envs/team4_env/lib/python3.11/site-packages (from jupyter-server<3,>=2.4.0->jupyterlab->jupyter) (0.5.3)\n",
      "Requirement already satisfied: overrides>=5.0 in /opt/conda/envs/team4_env/lib/python3.11/site-packages (from jupyter-server<3,>=2.4.0->jupyterlab->jupyter) (7.7.0)\n",
      "Requirement already satisfied: prometheus-client>=0.9 in /opt/conda/envs/team4_env/lib/python3.11/site-packages (from jupyter-server<3,>=2.4.0->jupyterlab->jupyter) (0.21.0)\n",
      "Requirement already satisfied: send2trash>=1.8.2 in /opt/conda/envs/team4_env/lib/python3.11/site-packages (from jupyter-server<3,>=2.4.0->jupyterlab->jupyter) (1.8.3)\n",
      "Requirement already satisfied: terminado>=0.8.3 in /opt/conda/envs/team4_env/lib/python3.11/site-packages (from jupyter-server<3,>=2.4.0->jupyterlab->jupyter) (0.18.1)\n",
      "Requirement already satisfied: websocket-client>=1.7 in /opt/conda/envs/team4_env/lib/python3.11/site-packages (from jupyter-server<3,>=2.4.0->jupyterlab->jupyter) (1.8.0)\n",
      "Requirement already satisfied: babel>=2.10 in /opt/conda/envs/team4_env/lib/python3.11/site-packages (from jupyterlab-server<3,>=2.27.1->jupyterlab->jupyter) (2.16.0)\n",
      "Requirement already satisfied: json5>=0.9.0 in /opt/conda/envs/team4_env/lib/python3.11/site-packages (from jupyterlab-server<3,>=2.27.1->jupyterlab->jupyter) (0.9.28)\n",
      "Requirement already satisfied: mdurl~=0.1 in /opt/conda/envs/team4_env/lib/python3.11/site-packages (from markdown-it-py>=2.2.0->rich<14,>=10.14.0->streamlit) (0.1.2)\n",
      "Requirement already satisfied: fastjsonschema>=2.15 in /opt/conda/envs/team4_env/lib/python3.11/site-packages (from nbformat>=5.7->nbconvert->jupyter) (2.20.0)\n",
      "Requirement already satisfied: ptyprocess>=0.5 in /opt/conda/envs/team4_env/lib/python3.11/site-packages (from pexpect>4.3->ipython>=7.23.1->ipykernel) (0.7.0)\n",
      "Requirement already satisfied: wcwidth in /opt/conda/envs/team4_env/lib/python3.11/site-packages (from prompt-toolkit<3.1.0,>=3.0.41->ipython>=7.23.1->ipykernel) (0.2.13)\n",
      "Requirement already satisfied: mypy-extensions>=0.3.0 in /opt/conda/envs/team4_env/lib/python3.11/site-packages (from typing-inspect<1,>=0.4.0->dataclasses-json<0.7,>=0.5.7->langchain-community) (1.0.0)\n",
      "Requirement already satisfied: soupsieve>1.2 in /opt/conda/envs/team4_env/lib/python3.11/site-packages (from beautifulsoup4->nbconvert->jupyter) (2.5)\n",
      "Requirement already satisfied: executing>=1.2.0 in /opt/conda/envs/team4_env/lib/python3.11/site-packages (from stack-data->ipython>=7.23.1->ipykernel) (2.1.0)\n",
      "Requirement already satisfied: asttokens>=2.1.0 in /opt/conda/envs/team4_env/lib/python3.11/site-packages (from stack-data->ipython>=7.23.1->ipykernel) (2.4.1)\n",
      "Requirement already satisfied: pure-eval in /opt/conda/envs/team4_env/lib/python3.11/site-packages (from stack-data->ipython>=7.23.1->ipykernel) (0.2.3)\n",
      "Requirement already satisfied: mpmath<1.4,>=1.1.0 in /opt/conda/envs/team4_env/lib/python3.11/site-packages (from sympy->torch>=1.11.0->sentence-transformers) (1.3.0)\n",
      "Requirement already satisfied: argon2-cffi-bindings in /opt/conda/envs/team4_env/lib/python3.11/site-packages (from argon2-cffi>=21.1->jupyter-server<3,>=2.4.0->jupyterlab->jupyter) (21.2.0)\n",
      "Requirement already satisfied: python-json-logger>=2.0.4 in /opt/conda/envs/team4_env/lib/python3.11/site-packages (from jupyter-events>=0.9.0->jupyter-server<3,>=2.4.0->jupyterlab->jupyter) (2.0.7)\n",
      "Requirement already satisfied: rfc3339-validator in /opt/conda/envs/team4_env/lib/python3.11/site-packages (from jupyter-events>=0.9.0->jupyter-server<3,>=2.4.0->jupyterlab->jupyter) (0.1.4)\n",
      "Requirement already satisfied: rfc3986-validator>=0.1.1 in /opt/conda/envs/team4_env/lib/python3.11/site-packages (from jupyter-events>=0.9.0->jupyter-server<3,>=2.4.0->jupyterlab->jupyter) (0.1.1)\n",
      "Requirement already satisfied: fqdn in /opt/conda/envs/team4_env/lib/python3.11/site-packages (from jsonschema[format-nongpl]>=4.18.0->jupyter-events>=0.9.0->jupyter-server<3,>=2.4.0->jupyterlab->jupyter) (1.5.1)\n",
      "Requirement already satisfied: isoduration in /opt/conda/envs/team4_env/lib/python3.11/site-packages (from jsonschema[format-nongpl]>=4.18.0->jupyter-events>=0.9.0->jupyter-server<3,>=2.4.0->jupyterlab->jupyter) (20.11.0)\n",
      "Requirement already satisfied: uri-template in /opt/conda/envs/team4_env/lib/python3.11/site-packages (from jsonschema[format-nongpl]>=4.18.0->jupyter-events>=0.9.0->jupyter-server<3,>=2.4.0->jupyterlab->jupyter) (1.3.0)\n",
      "Requirement already satisfied: webcolors>=24.6.0 in /opt/conda/envs/team4_env/lib/python3.11/site-packages (from jsonschema[format-nongpl]>=4.18.0->jupyter-events>=0.9.0->jupyter-server<3,>=2.4.0->jupyterlab->jupyter) (24.8.0)\n",
      "Requirement already satisfied: cffi>=1.0.1 in /opt/conda/envs/team4_env/lib/python3.11/site-packages (from argon2-cffi-bindings->argon2-cffi>=21.1->jupyter-server<3,>=2.4.0->jupyterlab->jupyter) (1.17.1)\n",
      "Requirement already satisfied: pycparser in /opt/conda/envs/team4_env/lib/python3.11/site-packages (from cffi>=1.0.1->argon2-cffi-bindings->argon2-cffi>=21.1->jupyter-server<3,>=2.4.0->jupyterlab->jupyter) (2.22)\n",
      "Requirement already satisfied: arrow>=0.15.0 in /opt/conda/envs/team4_env/lib/python3.11/site-packages (from isoduration->jsonschema[format-nongpl]>=4.18.0->jupyter-events>=0.9.0->jupyter-server<3,>=2.4.0->jupyterlab->jupyter) (1.3.0)\n",
      "Requirement already satisfied: types-python-dateutil>=2.8.10 in /opt/conda/envs/team4_env/lib/python3.11/site-packages (from arrow>=0.15.0->isoduration->jsonschema[format-nongpl]>=4.18.0->jupyter-events>=0.9.0->jupyter-server<3,>=2.4.0->jupyterlab->jupyter) (2.9.0.20241003)\n",
      "Note: you may need to restart the kernel to use updated packages.\n"
     ]
    }
   ],
   "source": [
    "pip install --root-user-action=ignore streamlit pandas jupyter langchain langchain-community langchain-huggingface langchain-text-splitters langchain-mistralai sentence-transformers faiss-cpu transformers matplotlib numpy plotly scikit-learn ipykernel roman yake pymilvus pydantic==2.5.2 mistralai"
   ]
  },
  {
   "cell_type": "markdown",
   "id": "daca9505-f31b-4ecd-8d3a-226f815b63d3",
   "metadata": {},
   "source": [
    "### Initialization and Configuration of Constants\n",
    "\n",
    "Purpose:\n",
    "- Retrieve and Validate the `MISTRAL_API_KEY` Environment Variable\n",
    "\n",
    "Input:\n",
    "1. Environment variables:\n",
    "`MISTRAL_API_KEY` (retrieved using `os.getenv()`).\n",
    "2. Constants:\n",
    "`MILVUS_URI`: Path to the Milvus vector database.\n",
    "`MODEL_NAME`: Name of the embedding model.\n",
    "\n",
    "Output:\n",
    "- Prints confirmation messages:\n",
    "    - Successful import of libraries and setup of constants.\n",
    "    - Values of `MILVUS_URI` and `MODEL_NAME`.\n",
    "- Raises an error if `MISTRAL_API_KEY` is not set:\n",
    "- `ValueError: \"MISTRAL_API_KEY environment variable not set.\"`\n",
    "\n",
    "Processing:\n",
    "- Checks for the `MISTRAL_API_KEY` in the environment:\n",
    "     - If missing, raises a ValueError.\n",
    "- Sets up constants (`MILVUS_URI` and `MODEL_NAME`) for subsequent operations."
   ]
  },
  {
   "cell_type": "code",
   "execution_count": 36,
   "id": "20c61470-c1c1-4bd6-83f5-65f7da69bb1e",
   "metadata": {},
   "outputs": [
    {
     "name": "stdout",
     "output_type": "stream",
     "text": [
      "MILVUS_URI: ./milvus/milvus_vector.db, MODEL_NAME: sentence-transformers/all-MiniLM-L6-v2\n"
     ]
    }
   ],
   "source": [
    "# Validate MISTRAL_API_KEY and set constants\n",
    "MISTRAL_API_KEY = os.getenv(\"MISTRAL_API_KEY\")\n",
    "if not MISTRAL_API_KEY:\n",
    "    raise ValueError(\"MISTRAL_API_KEY environment variable not set.\")\n",
    "MILVUS_URI = \"./milvus/milvus_vector.db\"\n",
    "MODEL_NAME = \"sentence-transformers/all-MiniLM-L6-v2\"\n",
    "print(f\"MILVUS_URI: {MILVUS_URI}, MODEL_NAME: {MODEL_NAME}\")"
   ]
  },
  {
   "cell_type": "markdown",
   "id": "b27531a9-789b-4cc1-8657-25884ab84b5c",
   "metadata": {},
   "source": [
    "### Configuring environment variables\n",
    "\n",
    "Purpose: The code initializes an environment for NLP applications, specifically for document retrieval and embedding generation using machine learning models.\n",
    "\n",
    "Input:\n",
    "\n",
    "- Environment variables loaded from a `.env` file (`MISTRAL_API_KEY` and `USER_AGENT`)\n",
    "- Configuration values such as `MILVUS_URI`, `MODEL_NAME`, and `CORPUS_SOURCE`\n",
    "\n",
    "Output:\n",
    "Confirms successful setup of the environment, document source readiness, and embedding model configuration for future processing.\n",
    "\n",
    "Processing:\n",
    "- Environment setup: Loads environment variables to set up API access and a user agent for HTTP requests.\n",
    "- Configuration: Prepares paths and settings for embedding models and vector storage.\n",
    "- Embedding preparation: Sets up a model (`sentence-transformers/all-MiniLM-L6-v2`) for processing documents and generating embeddings.\n",
    "- Document retrieval: References a document source URL (`CORPUS_SOURCE`) as a placeholder for further processing or document loading."
   ]
  },
  {
   "cell_type": "code",
   "execution_count": 3,
   "id": "9d114773-049b-41cb-b7fa-84da1b114c13",
   "metadata": {},
   "outputs": [
    {
     "name": "stdout",
     "output_type": "stream",
     "text": [
      "Environment initialized, documents loaded, embeddings configured.\n"
     ]
    }
   ],
   "source": [
    "from dotenv import load_dotenv\n",
    "import os \n",
    "\n",
    "# Load environment variables from .env file\n",
    "load_dotenv()  # This loads environment variables defined in a .env file into the program\n",
    "\n",
    "# Retrieve the Mistral API key from the environment for authentication\n",
    "MISTRAL_API_KEY = os.getenv(\"MISTRAL_API_KEY\")  \n",
    "# Set the USER_AGENT variable\n",
    "USER_AGENT = os.getenv(\"USER_AGENT\", \"my_custom_user_agent\")  \n",
    "os.environ[\"USER_AGENT\"] = USER_AGENT \n",
    "\n",
    "# Configuration settings for Milvus database, model name, and corpus source\n",
    "MILVUS_URI = \"./milvus/milvus_vector.db\"  \n",
    "MODEL_NAME = \"sentence-transformers/all-MiniLM-L6-v2\"  \n",
    "CORPUS_SOURCE = 'https://dl.acm.org/doi/proceedings/10.1145/3597503'  \n",
    "\n",
    "# Print confirmation of setup\n",
    "print(\"Environment initialized, documents loaded, embeddings configured.\")  # Confirm successful setup"
   ]
  },
  {
   "cell_type": "markdown",
   "id": "dd112fc9-ac1b-4d9f-9b3b-c6c915a642e4",
   "metadata": {},
   "source": [
    "# 3. Building the Chatbot"
   ]
  },
  {
   "cell_type": "markdown",
   "id": "ed25d8f9-f26a-4641-aaa0-9c97e0194fd6",
   "metadata": {},
   "source": [
    "### Creating Hugging Face Embedding Function\n",
    "Purpose: To create and return an embedding function configured with a specified NLP model for generating text embedding\n",
    "\n",
    "Input:\n",
    "- Model Name (`MODEL_NAME`): A pre-defined string representing the name of the model (e.g., `\"sentence-transformers/all-MiniLM-L6-v2\"`). This value is set globally and used to initialize the embedding function.\n",
    "\n",
    "Output:\n",
    "Returns an embedding function configured with the given model. This function can then be used to generate embeddings for text data.\n",
    "\n",
    "Processing:\n",
    "- The function creates an instance of `HuggingFaceEmbeddings` using `MODEL_NAME`, setting up an embedding generator based on the specified model.\n",
    "- It returns this configured embedding generator for use in NLP tasks like document analysis or semantic search.\n",
    "- It takes 2 minutes to run"
   ]
  },
  {
   "cell_type": "code",
   "execution_count": 4,
   "id": "2a3f8267-7fce-4155-a0de-a9c38014adff",
   "metadata": {},
   "outputs": [
    {
     "data": {
      "application/vnd.jupyter.widget-view+json": {
       "model_id": "bb01705f41f54385a24c3b38c60fc490",
       "version_major": 2,
       "version_minor": 0
      },
      "text/plain": [
       "modules.json:   0%|          | 0.00/349 [00:00<?, ?B/s]"
      ]
     },
     "metadata": {},
     "output_type": "display_data"
    },
    {
     "data": {
      "application/vnd.jupyter.widget-view+json": {
       "model_id": "c3cffe545f2741d9b8dbdb8186807a66",
       "version_major": 2,
       "version_minor": 0
      },
      "text/plain": [
       "config_sentence_transformers.json:   0%|          | 0.00/116 [00:00<?, ?B/s]"
      ]
     },
     "metadata": {},
     "output_type": "display_data"
    },
    {
     "data": {
      "application/vnd.jupyter.widget-view+json": {
       "model_id": "0124caa9dba54d9e828780435204379f",
       "version_major": 2,
       "version_minor": 0
      },
      "text/plain": [
       "README.md:   0%|          | 0.00/10.7k [00:00<?, ?B/s]"
      ]
     },
     "metadata": {},
     "output_type": "display_data"
    },
    {
     "data": {
      "application/vnd.jupyter.widget-view+json": {
       "model_id": "46e6230ec3fd4487ae9730d622de7b7a",
       "version_major": 2,
       "version_minor": 0
      },
      "text/plain": [
       "sentence_bert_config.json:   0%|          | 0.00/53.0 [00:00<?, ?B/s]"
      ]
     },
     "metadata": {},
     "output_type": "display_data"
    },
    {
     "data": {
      "application/vnd.jupyter.widget-view+json": {
       "model_id": "c6bb7980441444aea3271a22e551bb25",
       "version_major": 2,
       "version_minor": 0
      },
      "text/plain": [
       "config.json:   0%|          | 0.00/612 [00:00<?, ?B/s]"
      ]
     },
     "metadata": {},
     "output_type": "display_data"
    },
    {
     "data": {
      "application/vnd.jupyter.widget-view+json": {
       "model_id": "0715fb60dc3b40008d7a33fa67f59e54",
       "version_major": 2,
       "version_minor": 0
      },
      "text/plain": [
       "model.safetensors:   0%|          | 0.00/90.9M [00:00<?, ?B/s]"
      ]
     },
     "metadata": {},
     "output_type": "display_data"
    },
    {
     "data": {
      "application/vnd.jupyter.widget-view+json": {
       "model_id": "49d3a6889a2a4f85948e73dc1503cf75",
       "version_major": 2,
       "version_minor": 0
      },
      "text/plain": [
       "tokenizer_config.json:   0%|          | 0.00/350 [00:00<?, ?B/s]"
      ]
     },
     "metadata": {},
     "output_type": "display_data"
    },
    {
     "data": {
      "application/vnd.jupyter.widget-view+json": {
       "model_id": "59ee486c5fe844bc9ad0c8e3513585e6",
       "version_major": 2,
       "version_minor": 0
      },
      "text/plain": [
       "vocab.txt:   0%|          | 0.00/232k [00:00<?, ?B/s]"
      ]
     },
     "metadata": {},
     "output_type": "display_data"
    },
    {
     "data": {
      "application/vnd.jupyter.widget-view+json": {
       "model_id": "d54e214482274d3b83daa895e7358baa",
       "version_major": 2,
       "version_minor": 0
      },
      "text/plain": [
       "tokenizer.json:   0%|          | 0.00/466k [00:00<?, ?B/s]"
      ]
     },
     "metadata": {},
     "output_type": "display_data"
    },
    {
     "data": {
      "application/vnd.jupyter.widget-view+json": {
       "model_id": "a8e0c52f98944464acda6c81239b2c48",
       "version_major": 2,
       "version_minor": 0
      },
      "text/plain": [
       "special_tokens_map.json:   0%|          | 0.00/112 [00:00<?, ?B/s]"
      ]
     },
     "metadata": {},
     "output_type": "display_data"
    },
    {
     "data": {
      "application/vnd.jupyter.widget-view+json": {
       "model_id": "4cff07c3f8b0474aa95e2a3f76f60ab9",
       "version_major": 2,
       "version_minor": 0
      },
      "text/plain": [
       "1_Pooling/config.json:   0%|          | 0.00/190 [00:00<?, ?B/s]"
      ]
     },
     "metadata": {},
     "output_type": "display_data"
    },
    {
     "name": "stdout",
     "output_type": "stream",
     "text": [
      "Embedding function created using model: sentence-transformers/all-MiniLM-L6-v2\n",
      "Embedding function initialized: client=SentenceTransformer(\n",
      "  (0): Transformer({'max_seq_length': 256, 'do_lower_case': False}) with Transformer model: BertModel \n",
      "  (1): Pooling({'word_embedding_dimension': 384, 'pooling_mode_cls_token': False, 'pooling_mode_mean_tokens': True, 'pooling_mode_max_tokens': False, 'pooling_mode_mean_sqrt_len_tokens': False, 'pooling_mode_weightedmean_tokens': False, 'pooling_mode_lasttoken': False, 'include_prompt': True})\n",
      "  (2): Normalize()\n",
      ") model_name='sentence-transformers/all-MiniLM-L6-v2' cache_folder=None model_kwargs={} encode_kwargs={} multi_process=False show_progress=False\n"
     ]
    }
   ],
   "source": [
    "from langchain_huggingface import HuggingFaceEmbeddings\n",
    "\n",
    "#  Specify the HuggingFace model for embeddings\n",
    "MODEL_NAME = \"sentence-transformers/all-MiniLM-L6-v2\"  \n",
    "\n",
    "def get_embedding_function():\n",
    "    \"\"\"\n",
    "    Returns the embedding function for the specified model.\n",
    "\n",
    "    Returns:\n",
    "        HuggingFaceEmbeddings: An embedding function object.\n",
    "    \"\"\"\n",
    "    # Initialize the HuggingFace embedding function with the specified model name\n",
    "    embedding_function = HuggingFaceEmbeddings(model_name=MODEL_NAME)\n",
    "    \n",
    "    # Print a message confirming the embedding function has been created\n",
    "    print(f\"Embedding function created using model: {MODEL_NAME}\")\n",
    "    \n",
    "    # Return the initialized embedding function\n",
    "    return embedding_function\n",
    "\n",
    "# Call the embeddin function and display the output\n",
    "embedding_fn = get_embedding_function()  \n",
    "print(f\"Embedding function initialized: {embedding_fn}\")  "
   ]
  },
  {
   "cell_type": "markdown",
   "id": "346e6ef4-cf3e-4b46-807d-f168f750a83f",
   "metadata": {},
   "source": [
    "### Prompt Generator\n",
    "\n",
    "Purpose: To set up configurations for an NLP system and provide a placeholder function for generating prompts.\n",
    "\n",
    "Input:\n",
    "- Model Name: A string (`\"sentence-transformers/all-MiniLM-L6-v2\"`) representing the embedding model.\n",
    "- Milvus URI: A string (`\"./milvus/milvus_vector.db\"`) specifying the location of the Milvus vector database.\n",
    "\n",
    "Output:\n",
    "- A configured environment ready for NLP tasks.\n",
    "- `create_prompt()` function returns a string template to be used for generating detailed research summaries.\n",
    "\n",
    "Processing:\n",
    "- Configuration: Sets the model name for embedding generation and the URI for the vector database connection.\n",
    "- Prompt creation: Defines a simple placeholder function create_prompt() that returns a formatted prompt template for use in text generation.\n",
    "- - It takes 2 minutes to run"
   ]
  },
  {
   "cell_type": "code",
   "execution_count": 5,
   "id": "d8cc1b23-745d-4502-98e5-7a6c24a02e64",
   "metadata": {},
   "outputs": [
    {
     "name": "stdout",
     "output_type": "stream",
     "text": [
      "MODEL_NAME: sentence-transformers/all-MiniLM-L6-v2\n",
      "MILVUS_URI: ./milvus/milvus_vector.db\n",
      "Prompt created: Provide a detailed summary of the latest research on: {input}\n",
      "Returned prompt: Provide a detailed summary of the latest research on: {input}\n"
     ]
    }
   ],
   "source": [
    "# Specifies the HuggingFace model for embedding generation and specifies the URI for the Milvus vector database\n",
    "MODEL_NAME = \"sentence-transformers/all-MiniLM-L6-v2\"  \n",
    "MILVUS_URI = \"./milvus/milvus_vector.db\"  \n",
    "\n",
    "# Placeholder function for creating a prompt\n",
    "def create_prompt():\n",
    "    \"\"\"\n",
    "    Returns a placeholder prompt template.\n",
    "\n",
    "    Returns:\n",
    "        str: The prompt template.\n",
    "    \"\"\"\n",
    "    # Define a placeholder prompt for generating research summaries\n",
    "    prompt = \"Provide a detailed summary of the latest research on: {input}\"\n",
    "    print(f\"Prompt created: {prompt}\")  # Print confirmation of the created prompt\n",
    "    return prompt  # Return the created prompt template\n",
    "\n",
    "# Display the constants and call the function\n",
    "print(f\"MODEL_NAME: {MODEL_NAME}\")  # Print the model name for reference\n",
    "print(f\"MILVUS_URI: {MILVUS_URI}\")  # Print the Milvus URI for reference\n",
    "\n",
    "prompt_template = create_prompt()  # Call the function to create a prompt template\n",
    "print(f\"Returned prompt: {prompt_template}\")  # Print the returned prompt template"
   ]
  },
  {
   "cell_type": "markdown",
   "id": "00e8ee2a-ceea-4610-b143-4ce770555072",
   "metadata": {},
   "source": [
    "### Vector store loader\n",
    "\n",
    "Purpose: To simulate the loading of a vector store from a specified URI and provide an interface for data retrieval.\n",
    "\n",
    "Input:\n",
    "URI: A string representing the location of the vector database (e.g., `MILVUS_URI`).\n",
    "\n",
    "Output:\n",
    "`VectorStore` object with an as_retriever method that simulates returning itself for further operations. This acts as a placeholder for actual vector store functionality.\n",
    "\n",
    "Processing:\n",
    "- The function defines a placeholder `VectorStore` class with an `as_retriever` method that returns the `VectorStore` instance itself, simulating a `vector store` capable of retrieval operations.\n",
    "- The function returns an instance of `VectorStore` initialized when called.\n",
    "- - It takes 2 minutes to run"
   ]
  },
  {
   "cell_type": "code",
   "execution_count": 6,
   "id": "5b709a8b-dab0-4ca4-b84b-76931094b041",
   "metadata": {},
   "outputs": [
    {
     "name": "stdout",
     "output_type": "stream",
     "text": [
      "Loading vector store from URI: ./milvus/milvus_vector.db\n",
      "Vector store loaded: <__main__.load_existing_db.<locals>.VectorStore object at 0xffff3d91dfd0>\n"
     ]
    }
   ],
   "source": [
    "# Function for loading the vector store\n",
    "def load_existing_db(uri):\n",
    "    \"\"\"\n",
    "    Simulates loading an existing vector store from a given URI.\n",
    "\n",
    "    Args:\n",
    "        uri (str): The URI of the vector store database.\n",
    "\n",
    "    Returns:\n",
    "        VectorStore: A mock vector store class instance.\n",
    "    \"\"\"\n",
    "    # Define a mock VectorStore class with an as_retriever method\n",
    "    class VectorStore:\n",
    "        def as_retriever(self):\n",
    "            # Simulate returning a retriever instance\n",
    "            return self\n",
    "\n",
    "    print(f\"Loading vector store from URI: {uri}\")  # Print confirmation of the URI being used\n",
    "    return VectorStore()  # Return an instance of the mock VectorStore class\n",
    "\n",
    "# Specify the URI for the vector store\n",
    "MILVUS_URI = \"./milvus/milvus_vector.db\"  # Path to the Milvus vector database\n",
    "\n",
    "# Call the function to load the vector store\n",
    "vector_store = load_existing_db(MILVUS_URI)\n",
    "print(f\"Vector store loaded: {vector_store}\")  # Print confirmation that the vector store was loaded successfully"
   ]
  },
  {
   "cell_type": "markdown",
   "id": "fd71a789-ab91-44fb-8473-94745f96c5df",
   "metadata": {},
   "source": [
    "### Document Chain Placeholder\n",
    "\n",
    "Purpose: To serve as a placeholder function for creating a document processing chain using a model and a prompt.\n",
    "\n",
    "Input:\n",
    "- Model: An object representing an NLP model that will be used in the document chain.\n",
    "- Prompt: A string or object representing the prompt template to guide document processing.\n",
    "\n",
    "Output:\n",
    "\n",
    "Returns a string: \"Document chain here.\" to signify that a document processing chain has been set up (used for demonstration or placeholder purposes).\n",
    "\n",
    "Processing:\n",
    "- The function takes the model and prompt as arguments but currently does not perform any operations on them.\n",
    "- It returns a placeholder string indicating that a document chain has been created.\n",
    "- - It takes 2 minutes to run"
   ]
  },
  {
   "cell_type": "code",
   "execution_count": 7,
   "id": "c360e806-8f44-482d-9319-08436048cd14",
   "metadata": {},
   "outputs": [
    {
     "name": "stdout",
     "output_type": "stream",
     "text": [
      "Creating document chain with model: sentence-transformers/all-MiniLM-L6-v2\n",
      "Using prompt: Provide a detailed summary of the latest research on: {input}\n",
      "Returned document chain: Document chain here.\n"
     ]
    }
   ],
   "source": [
    "# Placeholder function for creating a document chain\n",
    "def create_stuff_documents_chain(model, prompt):\n",
    "    \"\"\"\n",
    "    Simulates the creation of a document chain.\n",
    "\n",
    "    Args:\n",
    "        model (str): The name of the model to use.\n",
    "        prompt (str): The prompt template.\n",
    "\n",
    "    Returns:\n",
    "        str: A placeholder message indicating the document chain creation.\n",
    "    \"\"\"\n",
    "    # Print the model being used for creating the document chain\n",
    "    print(f\"Creating document chain with model: {model}\")\n",
    "    \n",
    "    # Print the prompt being used for the document chain\n",
    "    print(f\"Using prompt: {prompt}\")\n",
    "    \n",
    "    # Return a placeholder message for the document chain\n",
    "    return \"Document chain here.\"\n",
    "\n",
    "\n",
    "MODEL_NAME = \"sentence-transformers/all-MiniLM-L6-v2\"  \n",
    "\n",
    "# Define a test prompt for the document chain\n",
    "test_prompt = \"Provide a detailed summary of the latest research on: {input}\"  \n",
    "\n",
    "# Call the function to simulate creating a document chain\n",
    "document_chain = create_stuff_documents_chain(MODEL_NAME, test_prompt)\n",
    "\n",
    "# Print the result of the document chain creation\n",
    "print(f\"Returned document chain: {document_chain}\")  "
   ]
  },
  {
   "cell_type": "markdown",
   "id": "519dd006-44be-4142-97a3-361340b2a5d0",
   "metadata": {},
   "source": [
    "# 4. Improving the Chatbot"
   ]
  },
  {
   "cell_type": "markdown",
   "id": "b2220aed-32ea-4f03-9f56-9b36feb3f511",
   "metadata": {},
   "source": [
    "### Improving Chatbot with RAG and Embeddings\n",
    "Purpose: To create and manage a vector store using Milvus, which stores embeddings generated from web documents for NLP applications.\n",
    "\n",
    "Input:\n",
    "- Documents: Text content loaded from the web through the `load_documents_from_web()` function.\n",
    "- Embedding Function: A function that converts document text into numerical embeddings.\n",
    "- URI: A file path (`'./milvus/milvus_vector.db'`) specifying the location of the Milvus vector database.\n",
    "\n",
    "Output:\n",
    "- Prints console messages at each step, confirming the successful execution of loading, processing, and vector store management.\n",
    "- If errors occur, an exception message is printed.\n",
    "\n",
    "Processing:\n",
    "- Document loading: Retrieves documents from a web source.\n",
    "- Document splitting: Splits the loaded documents into manageable chunks.\n",
    "- Embedding generation: Uses an embedding function to generate fixed-size numerical embeddings for each document chunk.\n",
    "- Vector store creation:\n",
    "   - Connects to Milvus.\n",
    "   - Checks if a collection (\"research_paper_chatbot\") exists. If not, creates a new collection schema.\n",
    "   - Inserts document embeddings into the collection.\n",
    "- Vector store loading: Loads an existing vector store collection from Milvus for retrieval operations\n",
    "- It takes 2 minutes to run"
   ]
  },
  {
   "cell_type": "code",
   "execution_count": 8,
   "id": "2c0549bd-63e5-4f1e-84aa-eb9fd7e82fa6",
   "metadata": {},
   "outputs": [
    {
     "name": "stdout",
     "output_type": "stream",
     "text": [
      "Loading documents from the web...\n",
      "Loaded 3 documents from the web.\n",
      "Splitting documents into chunks...\n",
      "Split into 3 chunks.\n",
      "Getting embedding function...\n",
      "Creating vector store...\n",
      "Directory created for vector store if it did not exist\n",
      "Connected to the Milvus database\n",
      "Creating new Vector Store...\n",
      "New Vector Store Created with provided documents\n",
      "Vector store created successfully.\n",
      "Loading existing vector store...\n",
      "Loaded existing Vector Store from Milvus database\n",
      "Loaded existing vector store successfully.\n",
      "Finished operations.\n"
     ]
    }
   ],
   "source": [
    "import os\n",
    "from tqdm import tqdm\n",
    "from pymilvus import (\n",
    "    connections,\n",
    "    FieldSchema,\n",
    "    CollectionSchema,\n",
    "    DataType,\n",
    "    Collection,\n",
    "    utility\n",
    ")\n",
    "\n",
    "# Suppress tqdm warnings by setting environment variable\n",
    "os.environ['TQDM_DISABLE'] = '1'\n",
    "\n",
    "# Placeholder function to simulate loading documents from the web\n",
    "def load_documents_from_web():\n",
    "    return [\"Document 1 content\", \"Document 2 content\", \"Document 3 content\"]\n",
    "\n",
    "# Splits documents into smaller chunks\n",
    "def split_documents(documents):\n",
    "    return [doc for doc in documents]\n",
    "\n",
    "# Placeholder function to simulate getting an embedding function\n",
    "def get_embedding_function():\n",
    "    def embedding_function(doc):\n",
    "        return [0.1] * 512  # Example fixed-size embedding\n",
    "    return embedding_function\n",
    "\n",
    "def create_vector_store(docs, embeddings, uri):\n",
    "    # Create the directory if it does not exist\n",
    "    head = os.path.split(uri)\n",
    "    os.makedirs(head[0], exist_ok=True)\n",
    "    print(\"Directory created for vector store if it did not exist\")\n",
    "\n",
    "    # Connect to the Milvus database\n",
    "    connections.connect(\"default\", uri=uri)\n",
    "    print(\"Connected to the Milvus database\")\n",
    "\n",
    "    # Define collection name\n",
    "    collection_name = \"research_paper_chatbot\"\n",
    "\n",
    "    # Check if the collection already exists\n",
    "    if utility.has_collection(collection_name):\n",
    "        print(\"Collection already exists. Loading existing Vector Store.\")\n",
    "        vector_store = Collection(name=collection_name)\n",
    "        print(\"Existing Vector Store Loaded\")\n",
    "    else:\n",
    "        print(\"Creating new Vector Store...\")\n",
    "        fields = [\n",
    "            FieldSchema(name=\"embedding\", dtype=DataType.FLOAT_VECTOR, dim=512),\n",
    "            FieldSchema(name=\"id\", dtype=DataType.INT64, is_primary=True, auto_id=True),\n",
    "        ]\n",
    "        schema = CollectionSchema(fields=fields, description=\"Collection for research paper embeddings\")\n",
    "        collection = Collection(name=collection_name, schema=schema)\n",
    "        print(\"New Vector Store Created with provided documents\")\n",
    "\n",
    "        # Insert documents into the vector store\n",
    "        for doc in docs:\n",
    "            embedding = embeddings(doc)\n",
    "            collection.insert([[embedding]])\n",
    "\n",
    "    return collection\n",
    "\n",
    "def load_exisiting_db(uri):\n",
    "    collection_name = \"research_paper_chatbot\"\n",
    "    vector_store = Collection(name=collection_name)\n",
    "    print(\"Loaded existing Vector Store from Milvus database\")\n",
    "    return vector_store\n",
    "\n",
    "if __name__ == '__main__':\n",
    "    try:\n",
    "        print(\"Loading documents from the web...\")\n",
    "        documents = load_documents_from_web()\n",
    "        print(f\"Loaded {len(documents)} documents from the web.\")\n",
    "\n",
    "        print(\"Splitting documents into chunks...\")\n",
    "        docs = split_documents(documents)\n",
    "        print(f\"Split into {len(docs)} chunks.\")\n",
    "\n",
    "        print(\"Getting embedding function...\")\n",
    "        embeddings = get_embedding_function()\n",
    "\n",
    "        uri = './milvus/milvus_vector.db'\n",
    "\n",
    "        print(\"Creating vector store...\")\n",
    "        vector_store = create_vector_store(docs, embeddings, uri)\n",
    "        print(\"Vector store created successfully.\")\n",
    "\n",
    "        print(\"Loading existing vector store...\")\n",
    "        loaded_vector_store = load_exisiting_db(uri)\n",
    "        print(\"Loaded existing vector store successfully.\")\n",
    "\n",
    "    except Exception as e:\n",
    "        print(f\"An error occurred: {e}\")\n",
    "\n",
    "    print(\"Finished operations.\")"
   ]
  },
  {
   "cell_type": "markdown",
   "id": "bd00ea3b-e59b-43d2-a7d2-1ceebb58dffc",
   "metadata": {},
   "source": [
    "### Query Response Generator\n",
    "Purpose: To provide an entry point for querying a Retrieval-Augmented Generation (RAG) system, generate a response using NLP models, and include source references\n",
    "\n",
    "\n",
    "Input:\n",
    "Query: A string containing the user's question or request for information\n",
    "\n",
    "Output:\n",
    "\n",
    "Response: A string containing the generated answer with source references.\n",
    "Sources: A list of URLs or source identifiers referenced in the response.\n",
    "\n",
    "Processing:\n",
    "1. Model and Prompt Initialization:\n",
    "    - Loads a ChatMistralAI model and creates a prompt template with create_prompt() for structured input.\n",
    "2. Vector Store Retrieval:\n",
    "    - Loads an existing vector store from Milvus and creates a retriever to fetch relevant documents.\n",
    "3. Document Chain Creation:\n",
    "    - Uses `create_stuff_documents_chain()` to set up a document processing chain.\n",
    "4. Retrieval Chain Setup:\n",
    "    - Constructs a retrieval chain that integrates the retriever and document chain to process the query.\n",
    "5. Query Handling and Response Generation:\n",
    "    - Generates a response using the retrieval chain.\n",
    "    - Catches and handles HTTPStatusError for handling service load issues (e.g., error 429 for high traffic).\n",
    "6. Source Attribution:\n",
    "    - Extracts and formats up to four unique sources from the response context to include in the output.\n",
    "    - Appends source references to the generated response.\n",
    "- It takes 2 minutes to run "
   ]
  },
  {
   "cell_type": "code",
   "execution_count": 9,
   "id": "2b9fa6c9-9fd5-412c-90df-9140cdbd942c",
   "metadata": {},
   "outputs": [
    {
     "name": "stdout",
     "output_type": "stream",
     "text": [
      "Prompt Created Successfully!\n",
      "Prompt Template:\n",
      "Human: You are an AI assistant, and provides answers to questions by using fact-based and statistical information when possible.\n",
      "    Use the following pieces of information to provide a concise answer to the question enclosed in <question> tags.\n",
      "    Only use the information provided in the <context> tags.\n",
      "    If you don't know the answer, just say that you don't know, don't try to make up an answer.\n",
      "    <context>\n",
      "    {context}\n",
      "    </context>\n",
      "\n",
      "    <question>\n",
      "    {input}\n",
      "    </question>\n",
      "\n",
      "    The response should be specific and use statistics or numbers when possible.\n",
      "\n",
      "    Assistant:\n",
      "Returned PromptTemplate: input_variables=['context', 'input'] template=\"\\n    Human: You are an AI assistant, and provides answers to questions by using fact-based and statistical information when possible.\\n    Use the following pieces of information to provide a concise answer to the question enclosed in <question> tags.\\n    Only use the information provided in the <context> tags.\\n    If you don't know the answer, just say that you don't know, don't try to make up an answer.\\n    <context>\\n    {context}\\n    </context>\\n\\n    <question>\\n    {input}\\n    </question>\\n\\n    The response should be specific and use statistics or numbers when possible.\\n\\n    Assistant:\"\n"
     ]
    }
   ],
   "source": [
    "# Define the prompt template\n",
    "from langchain_core.prompts import PromptTemplate\n",
    "\n",
    "def create_prompt():\n",
    "    \"\"\"\n",
    "    Creates a prompt template for the AI assistant.\n",
    "\n",
    "    Returns:\n",
    "        PromptTemplate: The created prompt template.\n",
    "    \"\"\"\n",
    "    PROMPT_TEMPLATE = \"\"\"\n",
    "    Human: You are an AI assistant, and provides answers to questions by using fact-based and statistical information when possible.\n",
    "    Use the following pieces of information to provide a concise answer to the question enclosed in <question> tags.\n",
    "    Only use the information provided in the <context> tags.\n",
    "    If you don't know the answer, just say that you don't know, don't try to make up an answer.\n",
    "    <context>\n",
    "    {context}\n",
    "    </context>\n",
    "\n",
    "    <question>\n",
    "    {input}\n",
    "    </question>\n",
    "\n",
    "    The response should be specific and use statistics or numbers when possible.\n",
    "\n",
    "    Assistant:\"\"\"\n",
    "\n",
    "    # Create a PromptTemplate instance\n",
    "    prompt = PromptTemplate(\n",
    "        template=PROMPT_TEMPLATE, input_variables=[\"context\", \"question\"]\n",
    "    )\n",
    "    print(\"Prompt Created Successfully!\")\n",
    "    print(f\"Prompt Template:\\n{PROMPT_TEMPLATE.strip()}\")\n",
    "    return prompt\n",
    "\n",
    "# Call the function and print the returned value\n",
    "created_prompt = create_prompt()\n",
    "print(f\"Returned PromptTemplate: {created_prompt}\")"
   ]
  },
  {
   "cell_type": "markdown",
   "id": "63f947a2-7d09-4715-882a-026e2de7f797",
   "metadata": {},
   "source": [
    " ### Adding Evaluation Metrics with Confusion Matrix"
   ]
  },
  {
   "cell_type": "markdown",
   "id": "5775a587-3e61-4027-9819-e305f89dbac7",
   "metadata": {},
   "source": [
    "Purpose: To manage and store performance metrics related to a chatbot's classification performance (e.g., True Positives, False Positives, Accuracy, etc.).\n",
    "\n",
    "Inputs:\n",
    "- `increment_value (integer)`: Value to increment or update specific metrics.\n",
    "- `metric (string)`: The name of the metric to update.\n",
    "- `columns (string)`: The columns to fetch from the database.\n",
    "\n",
    "Processing:\n",
    "- Interacts with an database to execute queries.\n",
    "- Performs necessary calculations for metrics like sensitivity, specificity, precision, recall, F1 score. \n",
    "- Safely handles division to avoid division by zero errors.\n",
    "\n",
    "Outputs:\n",
    "Updates or retrieves performance metrics stored in the database.\n",
    "\n",
    "- It takes 2 minutes to run"
   ]
  },
  {
   "cell_type": "code",
   "execution_count": 10,
   "id": "8c88ec4d-3664-40a3-a2fc-d3b49bfa25e7",
   "metadata": {},
   "outputs": [],
   "source": [
    "def update_performance_metrics(self):\n",
    "    \"\"\"\n",
    "    Recalculate and update the performance metrics in the database.\n",
    "    \"\"\"\n",
    "    # Fetch metrics from the database\n",
    "    print(\"Fetching performance metrics from the database...\")\n",
    "    metrics = self.get_performance_metrics('true_positive, true_negative, false_positive, false_negative')\n",
    "    print(f\"Metrics retrieved: {metrics}\")  # Print the metrics retrieved for debugging\n",
    "\n",
    "    # Calculate accuracy\n",
    "    accuracy = self.safe_division(\n",
    "        metrics['true_positive'] + metrics['true_negative'], \n",
    "        metrics['true_positive'] + metrics['true_negative'] + metrics['false_positive'] + metrics['false_negative']\n",
    "    )\n",
    "    \n",
    "    # Calculate precision\n",
    "    precision = self.safe_division(\n",
    "        metrics['true_positive'], \n",
    "        metrics['true_positive'] + metrics['false_positive']\n",
    "    )\n",
    "    \n",
    "    # Calculate sensitivity (also known as recall)\n",
    "    sensitivity = self.safe_division(\n",
    "        metrics['true_positive'], \n",
    "        metrics['true_positive'] + metrics['false_negative']\n",
    "    )\n",
    "    \n",
    "    # Calculate specificity\n",
    "    specificity = self.safe_division(\n",
    "        metrics['true_negative'], \n",
    "        metrics['true_negative'] + metrics['false_positive']\n",
    "    )\n",
    "    \n",
    "    # Calculate recall\n",
    "    recall = self.safe_division(\n",
    "        metrics['true_positive'], \n",
    "        metrics['true_positive'] + metrics['false_negative']\n",
    "    )\n",
    "\n",
    "    # Print calculated metrics for debugging\n",
    "    print(f\"Calculated Metrics:\\n\"\n",
    "          f\"Accuracy: {accuracy}\\n\"\n",
    "          f\"Precision: {precision}\\n\"\n",
    "          f\"Sensitivity: {sensitivity}\\n\"\n",
    "          f\"Specificity: {specificity}\\n\"\n",
    "          f\"Recall: {recall}\")\n",
    "\n",
    "    # Calculate F1 score if precision and sensitivity are available\n",
    "    if precision and sensitivity:\n",
    "        f1_score = self.safe_division(2 * precision * sensitivity, precision + sensitivity)\n",
    "    else:\n",
    "        f1_score = None  # Handle cases where F1 score cannot be calculated\n",
    "\n",
    "    print(f\"F1 Score: {f1_score}\")  # Print the F1 score for debugging\n",
    "\n",
    "    # Update the metrics in the database\n",
    "    print(\"Updating performance metrics in the database...\")\n",
    "    with self.connection:\n",
    "        self.connection.execute('''\n",
    "            UPDATE performance_metrics\n",
    "            SET accuracy = ?, precision = ?, sensitivity = ?, specificity = ?, f1_score = ?, recall = ?\n",
    "            WHERE id = 1\n",
    "        ''', (accuracy, precision, sensitivity, specificity, f1_score, recall))\n",
    "    print(\"Performance metrics updated successfully.\")  # Confirm the update"
   ]
  },
  {
   "cell_type": "markdown",
   "id": "eeff82ec-d178-48b9-8593-5c8098548ca8",
   "metadata": {},
   "source": [
    "### Retrieve an answer from RAG.\n",
    "\n",
    "Preprocessing:\n",
    "\n",
    "- The input query is processed using the `preprocess_query` function. This function cleans the query by:\n",
    "- Removing non-alphanumeric characters (e.g., punctuation).\n",
    "- Converting the query to lowercase for better matching during the search.\n",
    "\n",
    "Input:\n",
    "\n",
    "- The user enters a query in the text box `prompt_input`.\n",
    "\n",
    "Output:\n",
    "\n",
    "- The result is displayed in the output widget. This includes:\n",
    "- The generated response.\n",
    "- A list of research papers with titles and links.\n",
    "\n",
    "Processing:\n",
    "\n",
    "- The cleaned query is then passed to the `query_rag` function, which:\n",
    "- Fetches research papers related to the query using the arXiv API.\n",
    "- Simulates generating a response to the query (in a real-world setup, this could use an NLP model like GPT to generate more complex answers).\n",
    "- Extracts paper titles and links from the API response."
   ]
  },
  {
   "cell_type": "code",
   "execution_count": 31,
   "id": "d67df23e-967d-4212-946e-865f7ffc4c39",
   "metadata": {},
   "outputs": [],
   "source": [
    "import ipywidgets as widgets\n",
    "from IPython.display import display\n",
    "import requests\n",
    "import re\n",
    "\n",
    "# Create a text input widget for the user to enter a prompt\n",
    "prompt_input = widgets.Text(\n",
    "    value='', \n",
    "    placeholder='Enter your query here...',\n",
    "    description='Prompt:',\n",
    "    layout=widgets.Layout(width='80%')\n",
    ")\n",
    "\n",
    "# Create a button to submit the prompt\n",
    "submit_button = widgets.Button(\n",
    "    description='Submit',\n",
    "    button_style='primary',\n",
    "    tooltip='Click to submit your query'\n",
    ")\n",
    "\n",
    "# Create an output widget to display the response\n",
    "output = widgets.Output()\n",
    "\n",
    "# Helper function to search for relevant papers in arXiv\n",
    "def search_arxiv(query):\n",
    "    base_url = \"http://export.arxiv.org/api/query?\"\n",
    "    params = {\n",
    "        \"search_query\": f\"all:{query}\",\n",
    "        \"start\": 0,\n",
    "        \"max_results\": 5\n",
    "    }\n",
    "    response = requests.get(base_url, params=params)\n",
    "    return response.text\n",
    "\n",
    "# Preprocessing function: Clean the query for better search\n",
    "def preprocess_query(query):\n",
    "    # Remove non-alphanumeric characters and convert to lowercase\n",
    "    query_cleaned = re.sub(r'[^\\w\\s]', '', query).strip().lower()\n",
    "    return query_cleaned\n",
    "\n",
    "# Processing function to generate answer and retrieve research papers dynamically\n",
    "def query_rag(query):\n",
    "    # Preprocess the input query\n",
    "    query_cleaned = preprocess_query(query)\n",
    "    \n",
    "    # Querying arXiv for relevant research papers\n",
    "    papers_xml = search_arxiv(query_cleaned)\n",
    "    \n",
    "    # Simulating response generation (use a proper NLP model for real use)\n",
    "    response = f\"Based on the query: '{query}', the system suggests the following research papers as references.\"\n",
    "    \n",
    "    # Parse arXiv results to extract paper titles and links\n",
    "    papers = []\n",
    "    # Find all the paper titles and links in the XML response\n",
    "    paper_titles = re.findall(r\"<title>(.*?)</title>\", papers_xml)\n",
    "    paper_links = re.findall(r\"<id>(.*?)</id>\", papers_xml)\n",
    "    \n",
    "    # Skip the first result (query metadata) and pair the titles with their links\n",
    "    for title, link in zip(paper_titles[1:], paper_links[1:]):\n",
    "        papers.append((title.strip(), link.strip()))\n",
    "    \n",
    "    return response, papers\n",
    "\n",
    "# Function to handle button click and display the response\n",
    "def on_submit_click(change):\n",
    "    query = prompt_input.value\n",
    "    with output:\n",
    "        output.clear_output()  # Clear previous output\n",
    "        \n",
    "        # Process the query and retrieve the response\n",
    "        response, papers = query_rag(query)\n",
    "        \n",
    "        # Display the processed response\n",
    "        print(f\"Query: {query}\")\n",
    "        print(\"\\nResponse:\")\n",
    "        print(response)\n",
    "        \n",
    "        # Display the suggested research papers\n",
    "        print(\"\\nSuggested Papers:\")\n",
    "        if papers:\n",
    "            for title, link in papers:\n",
    "                print(f\"Title: {title}\\nLink: {link}\\n\")\n",
    "        else:\n",
    "            print(\"No research papers found for the given query.\")\n",
    "\n",
    "# Attach the button click event to the handler\n",
    "submit_button.on_click(on_submit_click)"
   ]
  },
  {
   "cell_type": "markdown",
   "id": "b01f3bc3-1322-4413-b911-001d448dbb45",
   "metadata": {},
   "source": [
    "# 5. Testing the Chatbot\n",
    "\n",
    "Purpose: Test the chatbot with a sample query\n",
    "\n",
    "Input: Sample queries and documents. \n",
    "\n",
    "Output: Responses and any errors encountered. \n",
    "\n",
    "Processing: Test the RAG model’s response to ensure correctness.\n",
    "\n",
    "- It takes 2 minutes to run"
   ]
  },
  {
   "cell_type": "code",
   "execution_count": 32,
   "id": "62726eed-9450-4f59-995a-d45b2463972d",
   "metadata": {},
   "outputs": [
    {
     "data": {
      "application/vnd.jupyter.widget-view+json": {
       "model_id": "522749efe3cc484c958f57910a3c6191",
       "version_major": 2,
       "version_minor": 0
      },
      "text/plain": [
       "Text(value='', description='Prompt:', layout=Layout(width='80%'), placeholder='Enter your query here...')"
      ]
     },
     "metadata": {},
     "output_type": "display_data"
    },
    {
     "data": {
      "application/vnd.jupyter.widget-view+json": {
       "model_id": "8ef7de7cf95647bca0f09936919aa114",
       "version_major": 2,
       "version_minor": 0
      },
      "text/plain": [
       "Button(button_style='primary', description='Submit', style=ButtonStyle(), tooltip='Click to submit your query'…"
      ]
     },
     "metadata": {},
     "output_type": "display_data"
    },
    {
     "data": {
      "application/vnd.jupyter.widget-view+json": {
       "model_id": "872c04795f634613a36ef286ef1dcae5",
       "version_major": 2,
       "version_minor": 0
      },
      "text/plain": [
       "Output()"
      ]
     },
     "metadata": {},
     "output_type": "display_data"
    }
   ],
   "source": [
    "# Display the widgets\n",
    "display(prompt_input, submit_button, output)"
   ]
  },
  {
   "cell_type": "markdown",
   "id": "cbb5e524-4279-4566-a56f-9e8a77de00ea",
   "metadata": {},
   "source": [
    "# 6. Conclusion\n",
    "\n",
    "Recap: We set up a retrieval-augmented generation (RAG) chatbot using LangChain and Milvus, integrated PDF loading, and improved its functionality.\n",
    "\n",
    "Next Steps: Consider enhancing the chatbot with real-time data retrieval or using more advanced NLP techniques.\n",
    "\n",
    "Resources: For more details, visit [Github](https://github.com/DrAlzahraniProjects/csusb_fall2024_cse6550_team4) and \n",
    "[Wiki for reference](https://github.com/DrAlzahraniProjects/csusb_fall2024_cse6550_team4/wiki)"
   ]
  }
 ],
 "metadata": {
  "kernelspec": {
   "display_name": "Python 3 (ipykernel)",
   "language": "python",
   "name": "python3"
  },
  "language_info": {
   "codemirror_mode": {
    "name": "ipython",
    "version": 3
   },
   "file_extension": ".py",
   "mimetype": "text/x-python",
   "name": "python",
   "nbconvert_exporter": "python",
   "pygments_lexer": "ipython3",
   "version": "3.11.10"
  }
 },
 "nbformat": 4,
 "nbformat_minor": 5
}
